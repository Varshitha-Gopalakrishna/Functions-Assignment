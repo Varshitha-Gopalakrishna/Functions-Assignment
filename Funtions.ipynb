{
 "cells": [
  {
   "cell_type": "code",
   "execution_count": null,
   "id": "889de5ca-0228-471e-a3e4-0e6e0cc4dd1e",
   "metadata": {},
   "outputs": [],
   "source": [
    "\"\"\" THEORY QUESTIONS \"\"\""
   ]
  },
  {
   "cell_type": "code",
   "execution_count": null,
   "id": "212090b6-f235-4c24-9f37-c1dad64fea0b",
   "metadata": {},
   "outputs": [],
   "source": [
    "\"\"\"\n",
    "Q1. What is the difference between a function and a method in Python?\n",
    "Answer-\n",
    "    In python 'function' and 'method' are often used interchangeably, but they have distinct meanings based on their context and usage.\n",
    "    Difference between a function and a method are as follows-\n",
    "    1) A function is a block of code that performs a specific task, whereas a method is a function that is associated with an object \n",
    "       or class.\n",
    "    2) A function can be defined using the 'def' keyword and can be called independently, whereas a method is defined within a class \n",
    "       and is called on instances of that class.\n",
    "    3) Functions can be defined at the global level and can be called from anywhere in the code, whereas Methods are defined within\n",
    "       the scope of a class and are called on class instances.\n",
    "    4) Functions are not bound to any specific object or class. Methods are bound to the objects or instances of the class. \n",
    "       They take self as the first parameter, which refers to the instance calling the method.\n",
    "\"\"\""
   ]
  },
  {
   "cell_type": "code",
   "execution_count": 1,
   "id": "686946dc-da64-4818-9734-9232860bbc4c",
   "metadata": {},
   "outputs": [
    {
     "name": "stdout",
     "output_type": "stream",
     "text": [
      "25\n"
     ]
    }
   ],
   "source": [
    "#A function is defined independently and can be called from anywhere in the code.\n",
    "#Example of a function- Define a function to calculate the square of a number\n",
    "\n",
    "def square(number):\n",
    "    return number * number\n",
    "\n",
    "result = square(5)\n",
    "print(result)"
   ]
  },
  {
   "cell_type": "code",
   "execution_count": 5,
   "id": "c1bb31bb-3a1f-463d-88cf-cbd0441f2eef",
   "metadata": {},
   "outputs": [
    {
     "data": {
      "text/plain": [
       "25"
      ]
     },
     "execution_count": 5,
     "metadata": {},
     "output_type": "execute_result"
    }
   ],
   "source": [
    "#A method is defined within a class and is called on instances of that class.\n",
    "#Example of a method- Define a class with a method to calculate the square of a number\n",
    "\n",
    "class Calculator:\n",
    "    def __init__(self, value):\n",
    "        self.value = value\n",
    "        \n",
    "    def square(self):\n",
    "        return self.value * self.value\n",
    "    \n",
    "num = Calculator(5)\n",
    "num.square()"
   ]
  },
  {
   "cell_type": "code",
   "execution_count": null,
   "id": "896ca137-bd04-4be1-931e-23bf36c95b2d",
   "metadata": {},
   "outputs": [],
   "source": [
    "\"\"\"\n",
    "Q2. Explain the concept of function arguments and parameters in Python.\n",
    "Answer-\n",
    "    In Python, functions are blocks of reusable code that perform a specific task. Parameters are the variables listed inside the \n",
    "    parentheses in the function definition. They act as placeholders for the values that will be passed into the function.\n",
    "    Arguments are the actual values passed to the function when it is called. They correspond to the parameters defined in the function.\n",
    "    Types of Arguments-\n",
    "    1) Positional Arguments - These are the most common type of arguments. They are assigned to parameters based on their position.\n",
    "    2) Keyword Arguments - These are specified by explicitly stating the parameter name along with its value. They allow you to pass \n",
    "       arguments in a different order.\n",
    "    3) Default Arguments - Parameters can have default values, which are used if no argument is passed for that parameter.\n",
    "       Default parameters must follow non-default parameters.\n",
    "    4) Variable-Length Arguments - These allow multiple arguments. when we want to pass an arbitrary number of arguments we can use\n",
    "       *args (for non-keyword arguments) and **kwargs (for keyword arguments).\n",
    "\"\"\""
   ]
  },
  {
   "cell_type": "code",
   "execution_count": 3,
   "id": "021b73a3-d77b-413e-af46-d8c33c2ddcaa",
   "metadata": {},
   "outputs": [
    {
     "name": "stdout",
     "output_type": "stream",
     "text": [
      "Hello Varshitha!\n"
     ]
    }
   ],
   "source": [
    "#Example for Parameters and Arguments\n",
    "\n",
    "def greet(name):\n",
    "    print(f\"Hello {name}!\")\n",
    "    \n",
    "greet(\"Varshitha\")\n",
    "\n",
    "#In this example 'name' is a parameter and 'Varshitha' is an argument"
   ]
  },
  {
   "cell_type": "code",
   "execution_count": 4,
   "id": "21f57c95-4d33-4e69-9d7a-de899289c8bf",
   "metadata": {},
   "outputs": [
    {
     "data": {
      "text/plain": [
       "6"
      ]
     },
     "execution_count": 4,
     "metadata": {},
     "output_type": "execute_result"
    }
   ],
   "source": [
    "#Examples of types of arguments-\n",
    "\n",
    "#1) Positional Argument\n",
    "def add(a, b):\n",
    "    return a + b\n",
    "\n",
    "add(4, 2) \n",
    "\n",
    "#in this example, 4 and 2 are positional arguments"
   ]
  },
  {
   "cell_type": "code",
   "execution_count": 8,
   "id": "f9d9e18a-257d-4263-bb37-e2c6eb9d8138",
   "metadata": {},
   "outputs": [
    {
     "name": "stdout",
     "output_type": "stream",
     "text": [
      "80\n",
      "Hello, Varshitha Gopalakrishna!\n"
     ]
    }
   ],
   "source": [
    "#2) Keyword Arguments\n",
    "def subtract(x, y):\n",
    "    return x - y\n",
    "\n",
    "num = subtract(y = 20, x = 100)\n",
    "print(num)\n",
    "\n",
    "\n",
    "def greet(first_name, last_name):\n",
    "    print(f\"Hello, {first_name} {last_name}!\")\n",
    "    \n",
    "greet(last_name = \"Gopalakrishna\", first_name = \"Varshitha\")\n",
    "\n",
    "#These examples shows we can explicitly state the parameter name along with its value. They allow us to pass arguments in a different order."
   ]
  },
  {
   "cell_type": "code",
   "execution_count": 15,
   "id": "8ef71fc3-3c19-4375-aae4-60e4254480ef",
   "metadata": {},
   "outputs": [
    {
     "name": "stdout",
     "output_type": "stream",
     "text": [
      "Hi Guest, welcome to the party\n",
      "Hi Shiva, welcome to the party\n",
      "15\n",
      "30\n"
     ]
    }
   ],
   "source": [
    "#3) Default Arguments\n",
    "def welcome(name = \"Guest\"):\n",
    "    print(f\"Hi {name}, welcome to the party\")\n",
    "    \n",
    "welcome()\n",
    "welcome(\"Shiva\")\n",
    "\n",
    "def multiply(a, b, c=1):  #Default parameters must follow non-default parameters.\n",
    "    print(a * b * c)\n",
    "\n",
    "multiply(3, 5)\n",
    "multiply(3, 5, 2)\n",
    "\n",
    "#These above examples shows default parameters will be used if no arguments are passed for that parameter. "
   ]
  },
  {
   "cell_type": "code",
   "execution_count": 18,
   "id": "c9b6469e-50f2-4ff1-930f-c83765ae3062",
   "metadata": {},
   "outputs": [
    {
     "name": "stdout",
     "output_type": "stream",
     "text": [
      "100\n",
      "name: Yashoda\n",
      "age: 50\n",
      "location: Mysore\n"
     ]
    }
   ],
   "source": [
    "#4) Variable-Length Arguments- \n",
    "def sum_all(*args):\n",
    "    return sum(args)\n",
    "\n",
    "n = sum_all(10, 30, 40, 15, 5)\n",
    "print(n)\n",
    "\n",
    "\n",
    "#**kwargs\n",
    "def print_info(**kwargs):\n",
    "    for key, value in kwargs.items():\n",
    "        print(f\"{key}: {value}\")\n",
    "        \n",
    "print_info(name = \"Yashoda\", age = 50, location = \"Mysore\")\n",
    "\n",
    "#sum_all(*args): This function accepts any number of positional arguments, sums them up using the sum function, and returns the result.\n",
    "#print_info(**kwargs): This function accepts any number of keyword arguments, iterates over them, and prints each key-value pair in the \n",
    "#format \"key: value\"."
   ]
  },
  {
   "cell_type": "code",
   "execution_count": null,
   "id": "ed470d06-56c0-4f18-9b45-80607575dc4d",
   "metadata": {},
   "outputs": [],
   "source": [
    "\"\"\"\n",
    "Q3. What are the different ways to define and call a function in Python?\n",
    "Answer-\n",
    "    In Python, functions can be defined and called in various ways to achieve different purposes. Following are several common ways,\n",
    "    each with examples:\n",
    "\"\"\""
   ]
  },
  {
   "cell_type": "code",
   "execution_count": 1,
   "id": "71b1c7d3-f3df-4cce-b367-945b0736d4e9",
   "metadata": {},
   "outputs": [
    {
     "name": "stdout",
     "output_type": "stream",
     "text": [
      "Hello Varshitha!\n"
     ]
    }
   ],
   "source": [
    "#1) Regular Function Definition and Call - The most common way to define a function is by using the def keyword.\n",
    "\n",
    "def greet(name):\n",
    "    print(f\"Hello {name}!\")\n",
    "    \n",
    "#calling the function\n",
    "greet(\"Varshitha\")"
   ]
  },
  {
   "cell_type": "code",
   "execution_count": 7,
   "id": "4d2e3bcc-1f48-4e63-867c-51be314843fb",
   "metadata": {},
   "outputs": [
    {
     "name": "stdout",
     "output_type": "stream",
     "text": [
      "Hi Guest, welcome to the party\n",
      "Hi Shiva, welcome to the party\n"
     ]
    }
   ],
   "source": [
    "#2) Function with Default Arguments - Functions can have parameters with default values.\n",
    "\n",
    "def welcome(name = \"Guest\"):\n",
    "    print(f\"Hi {name}, welcome to the party\")\n",
    "\n",
    "#Calling the function with and without an argument\n",
    "welcome()\n",
    "welcome(\"Shiva\")"
   ]
  },
  {
   "cell_type": "code",
   "execution_count": 8,
   "id": "eae8ffff-5efc-4c62-b2ed-1ebc8308a0fc",
   "metadata": {},
   "outputs": [
    {
     "name": "stdout",
     "output_type": "stream",
     "text": [
      "The car is a silver Kia Sonet, petrol vehicle.\n",
      "The car is a white Mahindra Thar, diesel vehicle.\n"
     ]
    }
   ],
   "source": [
    "#3) Function with Keyword Arguments - Functions can be called using keyword arguments to make the code more readable.\n",
    "\n",
    "def car(model, colour, fuel = \"petrol\"):\n",
    "    print(f\"The car is a {colour} {model}, {fuel} vehicle.\")\n",
    "\n",
    "#Calling the function with different keyword arguments\n",
    "car(model = \"Kia Sonet\", colour = \"silver\")\n",
    "car(model = \"Mahindra Thar\", colour = \"white\", fuel = \"diesel\")"
   ]
  },
  {
   "cell_type": "code",
   "execution_count": 16,
   "id": "53996093-4d96-4af8-85df-83a7639baad0",
   "metadata": {},
   "outputs": [
    {
     "name": "stdout",
     "output_type": "stream",
     "text": [
      "73\n",
      "99\n",
      "Name: Naresh\n",
      "Age: 25\n",
      "City: Mysore\n",
      "Name: Namratha\n",
      "Age: 18\n",
      "Course: NEET\n",
      "Coaching_centre: PWskills\n"
     ]
    }
   ],
   "source": [
    "#4) Function with Variable-Length Arguments - Functions can accept a variable number of positional (*args) and keyword arguments (**kwargs).\n",
    "\n",
    "#*args\n",
    "def largest_num(*numbers):\n",
    "    return max(numbers)\n",
    "\n",
    "#Calling the function with different numbers of arguments\n",
    "print(largest_num(42, 5, 10, 73, 56, 22, 25, 26))\n",
    "print(largest_num(33, 24, 18, 77, 89, 99))\n",
    "\n",
    "#**kwargs\n",
    "def user_info(**kwargs):\n",
    "    for key, value in kwargs.items():\n",
    "        print(f\"{key.capitalize()}: {value}\")\n",
    "\n",
    "#Calling the function with different keyword arguments\n",
    "user_info(name=\"Naresh\", age=25, city=\"Mysore\")\n",
    "user_info(name=\"Namratha\", age=18, course=\"NEET\", coaching_centre=\"PWskills\")"
   ]
  },
  {
   "cell_type": "code",
   "execution_count": 4,
   "id": "f41b564b-d045-44f4-90bc-502c4dedb91f",
   "metadata": {},
   "outputs": [
    {
     "name": "stdout",
     "output_type": "stream",
     "text": [
      "5\n",
      "25\n"
     ]
    }
   ],
   "source": [
    "#5) Lambda Functions - Lambda functions are small anonymous functions defined with the lambda keyword.\n",
    "\n",
    "# Defining a lambda function\n",
    "add = lambda x, y: x + y\n",
    "\n",
    "# Calling the lambda function\n",
    "print(add(2, 3)) \n",
    "\n",
    "# Defining a lambda function\n",
    "square_number = lambda a : a ** 2\n",
    "\n",
    "# Calling the lambda function\n",
    "print(square_number(5))"
   ]
  },
  {
   "cell_type": "code",
   "execution_count": 5,
   "id": "927a3776-7af4-4eed-89f0-ad27d7ff8465",
   "metadata": {},
   "outputs": [
    {
     "name": "stdout",
     "output_type": "stream",
     "text": [
      "120\n"
     ]
    }
   ],
   "source": [
    "#6) Recursive Functions - A function can call itself to solve a problem.\n",
    "def factorial(n):\n",
    "    if n == 0:\n",
    "        return 1\n",
    "    else:\n",
    "        return n * factorial(n - 1)\n",
    "\n",
    "# Calling the recursive function\n",
    "print(factorial(5))  "
   ]
  },
  {
   "cell_type": "code",
   "execution_count": 9,
   "id": "1e180383-49df-4366-931f-48fe84469e3f",
   "metadata": {},
   "outputs": [
    {
     "name": "stdout",
     "output_type": "stream",
     "text": [
      "Gopal deposited 10000, new balance is 10000\n",
      "Gopal, withdrawn 1500, new balance is 8500\n"
     ]
    }
   ],
   "source": [
    "#7) Method within a Class (Instance Method) - Functions defined within a class are called methods.\n",
    "#A class representing a simple bank account with methods to deposit and withdraw money.\n",
    "\n",
    "class BankAccount:\n",
    "    def __init__(self, account_holder):\n",
    "        self.account_holder = account_holder\n",
    "        self.balance = 0\n",
    "        \n",
    "    def deposit(self, amount):\n",
    "        self.balance += amount\n",
    "        print(f\"{self.account_holder} deposited {amount}, new balance is {self.balance}\")\n",
    "        \n",
    "    def withdraw(self, amount):\n",
    "        if amount <= self.balance:\n",
    "            self.balance -= amount\n",
    "            print(f\"{self.account_holder}, withdrawn {amount}, new balance is {self.balance}\")\n",
    "            \n",
    "account = BankAccount(\"Gopal\")\n",
    "account.deposit(10000)\n",
    "account.withdraw(1500)"
   ]
  },
  {
   "cell_type": "code",
   "execution_count": 10,
   "id": "bd70d07b-ccfe-4880-bc40-c27af5978833",
   "metadata": {},
   "outputs": [
    {
     "name": "stdout",
     "output_type": "stream",
     "text": [
      "16\n",
      "8\n"
     ]
    }
   ],
   "source": [
    "#8) Nested Functions - A function defined inside another function.\n",
    "#A function that returns a nested function to calculate the power of a number.\n",
    "\n",
    "def power(exponent):\n",
    "    def calculate(base):\n",
    "        return base ** exponent\n",
    "    return calculate\n",
    "\n",
    "# Using the nested function\n",
    "square = power(2)\n",
    "cube = power(3)\n",
    "\n",
    "print(square(4))  \n",
    "print(cube(2))    "
   ]
  },
  {
   "cell_type": "code",
   "execution_count": null,
   "id": "85497052-d092-4e72-bbb5-c4cb01c09da7",
   "metadata": {},
   "outputs": [],
   "source": [
    "\"\"\"\n",
    "Q4. What is the purpose of the `return` statement in a Python function?\n",
    "Answer-\n",
    "    The return statement in a Python function serves the purpose of terminating the function and optionally passing a value back to \n",
    "    the caller.\n",
    "    The purpose of the 'return' stament are as follows-\n",
    "    1) Terminate the Function: The return statement stops the execution of the function. No code after the return statement will be \n",
    "       executed within that function.\n",
    "    2) Return a Value: The return statement can send a value back to the caller, which can be used immediately or stored in a variable.\n",
    "       If no value is specified, the function returns None by default.\n",
    "    3) Multiple Return Points: A function can have multiple return statements. This allows for different outcomes based on conditional\n",
    "       logic.\n",
    "    The return statement is essential for controlling the flow of a function and for passing the result of a function's computation back\n",
    "    to its caller.\n",
    "    Following are the examples of return statement:\n",
    "\"\"\""
   ]
  },
  {
   "cell_type": "code",
   "execution_count": 13,
   "id": "3e995dd8-a77e-499f-b8dd-e0616935e792",
   "metadata": {},
   "outputs": [
    {
     "name": "stdout",
     "output_type": "stream",
     "text": [
      "21\n"
     ]
    }
   ],
   "source": [
    "#1) Returning a Simple Calculation\n",
    "\n",
    "def multiply(x, y):\n",
    "    return x * y\n",
    "result = multiply(3, 7)\n",
    "print(result)"
   ]
  },
  {
   "cell_type": "code",
   "execution_count": 14,
   "id": "31b60388-6ad8-4131-8816-087dccbca59d",
   "metadata": {},
   "outputs": [
    {
     "name": "stdout",
     "output_type": "stream",
     "text": [
      "False\n"
     ]
    }
   ],
   "source": [
    "#2) Returning a Boolean Value\n",
    "\n",
    "def odd_number(number):\n",
    "    return number % 2 != 0\n",
    "\n",
    "result = odd_number(8)\n",
    "print(result)"
   ]
  },
  {
   "cell_type": "code",
   "execution_count": 15,
   "id": "65db0bfd-b6a2-42ae-a4a9-0a6ce99f7872",
   "metadata": {},
   "outputs": [
    {
     "name": "stdout",
     "output_type": "stream",
     "text": [
      "[0, 2, 4, 6, 8]\n"
     ]
    }
   ],
   "source": [
    "#3) Returning a List\n",
    "def get_even_numbers(numbers):\n",
    "    even_numbers = []\n",
    "    for i in range(numbers):\n",
    "        if i % 2 == 0:\n",
    "            even_numbers.append(i)\n",
    "    return even_numbers\n",
    "\n",
    "print(get_even_numbers(10))"
   ]
  },
  {
   "cell_type": "code",
   "execution_count": 17,
   "id": "77a413ae-efeb-4647-968a-8311433d6115",
   "metadata": {},
   "outputs": [
    {
     "name": "stdout",
     "output_type": "stream",
     "text": [
      "{'name': 'Swayambhu', 'age': 76}\n"
     ]
    }
   ],
   "source": [
    "#4) Returning a Dictionary\n",
    "\n",
    "def personal_details(name, age):\n",
    "    return{\n",
    "    \"name\": name,\n",
    "    \"age\": age\n",
    "    }\n",
    "person = personal_details(\"Swayambhu\", 76)\n",
    "print(person)"
   ]
  },
  {
   "cell_type": "code",
   "execution_count": 18,
   "id": "a661a7cb-78c8-4443-9255-3031602b2383",
   "metadata": {},
   "outputs": [
    {
     "name": "stdout",
     "output_type": "stream",
     "text": [
      "Happy married life Naresh and Varshitha\n"
     ]
    }
   ],
   "source": [
    "#5) Returning a String\n",
    "def greetings(bride, bridegroom):\n",
    "    return (f\"Happy married life {bride} and {bridegroom}\")\n",
    "\n",
    "greet = greetings(\"Naresh\", \"Varshitha\")\n",
    "print(greet)"
   ]
  },
  {
   "cell_type": "code",
   "execution_count": null,
   "id": "4b56f156-4ec4-46f4-815e-6f91a7867f28",
   "metadata": {
    "tags": []
   },
   "outputs": [],
   "source": [
    "\"\"\"\n",
    "Q5. What are iterators in Python and how do they differ from iterables?\n",
    "Answer-\n",
    "    Iterables - \n",
    "    1) An iterable is any python object/sequential structure/data structure that is capable of returning its members one at a time,\n",
    "       permitting it to be iterated over in a for loop.\n",
    "    2) It has an __iter__() method that returns an iterator.\n",
    "    3) Iterables provide an interface to create iterators.\n",
    "    \n",
    "    Iterators -\n",
    "    1) Iterator is an object representing a stream of data.\n",
    "    2) Iterator is intermediate state where you create an object that can be iterated\n",
    "    3) Iterators provide an interface to access elements one at a time.\n",
    "    4) It has two primary methods:\n",
    "       a) __iter__(): Returns the iterator object itself.\n",
    "       b) __next__(): Returns the next item from the stream. When no more data is available, it raises a StopIteration exception.\n",
    "    Following are the example of iterables and iterator:\n",
    "\"\"\""
   ]
  },
  {
   "cell_type": "code",
   "execution_count": 1,
   "id": "57907b9a-22ce-415a-b0f9-9e5576f17c89",
   "metadata": {},
   "outputs": [
    {
     "name": "stdout",
     "output_type": "stream",
     "text": [
      "1\n",
      "2\n",
      "3\n",
      "4\n"
     ]
    }
   ],
   "source": [
    "#Example of Iterable and Iterator using a List - \n",
    "\n",
    "#Iterable (List)- A list is a built-in iterable in Python.\n",
    "my_list = [1, 2, 3, 4]\n",
    "\n",
    "#using a for loop to iterate over the list\n",
    "for i in my_list:\n",
    "    print(i)"
   ]
  },
  {
   "cell_type": "code",
   "execution_count": 6,
   "id": "87565789-b3df-42a3-bcd3-f582fad44d89",
   "metadata": {},
   "outputs": [
    {
     "name": "stdout",
     "output_type": "stream",
     "text": [
      "1\n",
      "2\n",
      "3\n",
      "4\n"
     ]
    },
    {
     "ename": "StopIteration",
     "evalue": "",
     "output_type": "error",
     "traceback": [
      "\u001b[0;31m---------------------------------------------------------------------------\u001b[0m",
      "\u001b[0;31mStopIteration\u001b[0m                             Traceback (most recent call last)",
      "Cell \u001b[0;32mIn[6], line 11\u001b[0m\n\u001b[1;32m      9\u001b[0m \u001b[38;5;28mprint\u001b[39m(\u001b[38;5;28mnext\u001b[39m(my_iterator))\n\u001b[1;32m     10\u001b[0m \u001b[38;5;28mprint\u001b[39m(\u001b[38;5;28mnext\u001b[39m(my_iterator))\n\u001b[0;32m---> 11\u001b[0m \u001b[38;5;28mprint\u001b[39m(\u001b[38;5;28;43mnext\u001b[39;49m\u001b[43m(\u001b[49m\u001b[43mmy_iterator\u001b[49m\u001b[43m)\u001b[49m)\n",
      "\u001b[0;31mStopIteration\u001b[0m: "
     ]
    }
   ],
   "source": [
    "#Iterator- You can explicitly create an iterator from a list using the iter() function.\n",
    "\n",
    "#creating an iterator from the list\n",
    "my_iterator = iter(my_list)\n",
    "\n",
    "#using iterator to get elaements\n",
    "print(next(my_iterator))\n",
    "print(next(my_iterator))\n",
    "print(next(my_iterator))\n",
    "print(next(my_iterator))\n",
    "print(next(my_iterator))  #Raises StopIteration error"
   ]
  },
  {
   "cell_type": "code",
   "execution_count": 7,
   "id": "bec22b29-f44c-42c5-b66c-3a9e51e353d7",
   "metadata": {},
   "outputs": [
    {
     "name": "stdout",
     "output_type": "stream",
     "text": [
      "P\n",
      "W\n",
      "s\n",
      "k\n",
      "i\n",
      "l\n",
      "l\n",
      "s\n"
     ]
    }
   ],
   "source": [
    "#Example of Iterable and Iterator using a string - \n",
    "\n",
    "#Iterable (String)- A string is a built-in iterable in Python.\n",
    "my_string = \"PWskills\"\n",
    "\n",
    "#using a for loop to iterate over a string\n",
    "for i in my_string:\n",
    "    print(i)"
   ]
  },
  {
   "cell_type": "code",
   "execution_count": 11,
   "id": "7a0eee3d-0348-497c-acc0-fe1d071d5dbb",
   "metadata": {},
   "outputs": [
    {
     "name": "stdout",
     "output_type": "stream",
     "text": [
      "P\n",
      "W\n",
      "s\n",
      "k\n",
      "i\n",
      "l\n",
      "l\n",
      "s\n"
     ]
    },
    {
     "ename": "StopIteration",
     "evalue": "",
     "output_type": "error",
     "traceback": [
      "\u001b[0;31m---------------------------------------------------------------------------\u001b[0m",
      "\u001b[0;31mStopIteration\u001b[0m                             Traceback (most recent call last)",
      "Cell \u001b[0;32mIn[11], line 15\u001b[0m\n\u001b[1;32m     13\u001b[0m \u001b[38;5;28mprint\u001b[39m(\u001b[38;5;28mnext\u001b[39m(my_iterator))\n\u001b[1;32m     14\u001b[0m \u001b[38;5;28mprint\u001b[39m(\u001b[38;5;28mnext\u001b[39m(my_iterator))\n\u001b[0;32m---> 15\u001b[0m \u001b[38;5;28mprint\u001b[39m(\u001b[38;5;28;43mnext\u001b[39;49m\u001b[43m(\u001b[49m\u001b[43mmy_iterator\u001b[49m\u001b[43m)\u001b[49m)\n",
      "\u001b[0;31mStopIteration\u001b[0m: "
     ]
    }
   ],
   "source": [
    "#Iterator- You can explicitly create an iterator from a string using the iter() function.\n",
    "\n",
    "#creating an iterator from a string\n",
    "my_iterator = iter(my_string)\n",
    "\n",
    "#using iterator to get elements\n",
    "print(next(my_iterator))\n",
    "print(next(my_iterator))\n",
    "print(next(my_iterator))\n",
    "print(next(my_iterator))\n",
    "print(next(my_iterator))\n",
    "print(next(my_iterator))\n",
    "print(next(my_iterator))\n",
    "print(next(my_iterator))\n",
    "print(next(my_iterator))  #Raises StopIteration error"
   ]
  },
  {
   "cell_type": "code",
   "execution_count": null,
   "id": "7e208483-e0f8-4109-9a7d-95951c43ac56",
   "metadata": {},
   "outputs": [],
   "source": [
    "\"\"\"\n",
    "Q6. Explain the concept of generators in Python and how they are defined.\n",
    "Answer- \n",
    "    Generators in Python are a special class of iterators that allow you to iterate over data without the need to store the entire data\n",
    "    set in memory.They are useful for dealing with large data sets or streams of data where it is impractical to load everything into \n",
    "    memory at once.\n",
    "    \n",
    "    Key characteristics of Generators-\n",
    "    1) Lazy Evaluation- Generators compute values on the fly and yield them one at a time. This means they do not compute all values \n",
    "       upfront.\n",
    "    2) Stateful Iteration- Generators maintain their state between successive calls, which makes them efficient for tasks like\n",
    "       traversing large sequences or streams.\n",
    "    3) Memory Efficiency- Because they generate items one at a time, they use less memory than lists or other collections that store all \n",
    "       values at once.\n",
    "       \n",
    "    Defining Generators-\n",
    "    Generators are defined using functions and the yield statement. A function becomes a generator if it contains one or more yield \n",
    "    expressions.\n",
    "    \n",
    "    Generators are a powerful feature in Python that enable efficient iteration over large data sets without the need for excessive \n",
    "    memory usage. By generating items on-the-fly, they provide a performant way to handle data streams and large sequences.\n",
    "\"\"\""
   ]
  },
  {
   "cell_type": "code",
   "execution_count": 20,
   "id": "f7c69199-23bf-4987-8d5c-43ee5aff20ca",
   "metadata": {},
   "outputs": [
    {
     "name": "stdout",
     "output_type": "stream",
     "text": [
      "36\n",
      "25\n",
      "49\n"
     ]
    }
   ],
   "source": [
    "#Example of a generator that yields the squares of the numbers-\n",
    "def square_number_generator(*numbers):\n",
    "    for i in numbers:\n",
    "        yield i ** 2\n",
    "    \n",
    "#using the generator\n",
    "result = square_number_generator(6, 5, 7)\n",
    "for i in result:\n",
    "    print(i)"
   ]
  },
  {
   "cell_type": "code",
   "execution_count": 22,
   "id": "91bcd7ae-8afe-465d-9256-9a6e13821057",
   "metadata": {},
   "outputs": [
    {
     "name": "stdout",
     "output_type": "stream",
     "text": [
      "0\n",
      "1\n",
      "1\n",
      "2\n",
      "3\n",
      "5\n",
      "8\n",
      "13\n",
      "21\n",
      "34\n"
     ]
    }
   ],
   "source": [
    "#Fibonacci Sequence Generator-\n",
    "def fibonacci_series(n):\n",
    "    a = 0\n",
    "    b = 1\n",
    "    for i in range(n):\n",
    "        yield a\n",
    "        a,b = b, a+b\n",
    "\n",
    "#using the generator\n",
    "fibonacci = fibonacci_series(10)\n",
    "for i in fibonacci:\n",
    "    print(i)"
   ]
  },
  {
   "cell_type": "code",
   "execution_count": 42,
   "id": "cf610397-a11e-45c6-8541-cde04eafdd15",
   "metadata": {},
   "outputs": [
    {
     "name": "stdout",
     "output_type": "stream",
     "text": [
      "0\n",
      "1\n",
      "4\n",
      "9\n",
      "16\n",
      "25\n",
      "36\n",
      "49\n",
      "64\n",
      "81\n"
     ]
    }
   ],
   "source": [
    "#Generator Expression that yields square of numbers\n",
    "square_numbers = (x * x for x in range(10))\n",
    "\n",
    "#Using the generator expression\n",
    "for i in square_numbers:\n",
    "    print(i)"
   ]
  },
  {
   "cell_type": "code",
   "execution_count": null,
   "id": "adac61dc-2573-4c8d-9c27-fa1135dcc957",
   "metadata": {},
   "outputs": [],
   "source": [
    "\"\"\"\n",
    "Q7.  What are the advantages of using generators over regular functions?\n",
    "Answer-\n",
    "    Advantages of using generators over regular functions-\n",
    "    1) Use Less Memory- Generators don't store all values in memory. They create each value one at a time when needed, which is great for\n",
    "       handling large amounts of data.\n",
    "    2) Work Only When Needed- Generators produce values as you ask for them. This means they don't do any work until you need a value, \n",
    "       making them efficient.\n",
    "    3) Simpler to write- Generators can make your code shorter and easier to read. You can write complex loops and data processing in a \n",
    "       straightforward way using yield.\n",
    "    4) Handle Big and Endless Data- Generators can handle very large data sets and even infinite sequences because they only produce one \n",
    "       value at a time. Regular functions can't do this because they need to create all values at once.\n",
    "    5) Faster Performance- Because they work on-the-fly, generators can be faster and use fewer resources, especially with big data sets.\n",
    "    6) Easy to Combine- You can easily link generators together, creating a pipeline where data flows from one generator to another. \n",
    "       This makes your code modular and reusable.\n",
    "\"\"\""
   ]
  },
  {
   "cell_type": "code",
   "execution_count": 55,
   "id": "ec159ffd-b973-4651-917d-59d52e6f6232",
   "metadata": {},
   "outputs": [
    {
     "name": "stdout",
     "output_type": "stream",
     "text": [
      "0\n",
      "1\n",
      "1\n",
      "2\n",
      "3\n",
      "5\n",
      "8\n",
      "13\n",
      "21\n",
      "34\n",
      "55\n",
      "89\n",
      "144\n",
      "233\n",
      "377\n"
     ]
    }
   ],
   "source": [
    "#Generating Fibonacci Numbers using generator-\n",
    "\n",
    "def fibonacci_numbers(n):\n",
    "    a, b = 0, 1\n",
    "    for i in range(n):\n",
    "        yield a\n",
    "        a, b = b, a+b\n",
    "        \n",
    "result = fibonacci_numbers(15)\n",
    "for i in result:\n",
    "    print(i)"
   ]
  },
  {
   "cell_type": "code",
   "execution_count": 34,
   "id": "ee7ff6f6-ee9b-46fe-b190-149b5c24b337",
   "metadata": {},
   "outputs": [
    {
     "name": "stdout",
     "output_type": "stream",
     "text": [
      "0\n",
      "1\n",
      "1\n",
      "2\n",
      "3\n",
      "5\n",
      "8\n",
      "13\n",
      "21\n",
      "34\n",
      "55\n",
      "89\n",
      "144\n",
      "233\n",
      "377\n"
     ]
    }
   ],
   "source": [
    "#Generating Fibonacci Numbers using regular function-\n",
    "\n",
    "def fibonacci_num(n):\n",
    "    a, b = 0, 1\n",
    "    l = []\n",
    "    for i in range(n):\n",
    "        l.append(a)\n",
    "        a, b = b, a+b\n",
    "    return l\n",
    "\n",
    "result = fibonacci_num(15)\n",
    "for i in result:\n",
    "    print(i)"
   ]
  },
  {
   "cell_type": "code",
   "execution_count": 38,
   "id": "98b0eba3-94d1-4500-9d67-7df8e31e5990",
   "metadata": {},
   "outputs": [
    {
     "name": "stdout",
     "output_type": "stream",
     "text": [
      "0\n",
      "2\n",
      "4\n",
      "6\n",
      "8\n",
      "10\n"
     ]
    }
   ],
   "source": [
    "#Generating Even Numbers using generators-\n",
    "def even_numbers(num):\n",
    "    for i in range(num + 1):\n",
    "        if i % 2 == 0:\n",
    "            yield i\n",
    "result = even_numbers(10)\n",
    "for i in result:\n",
    "    print(i)"
   ]
  },
  {
   "cell_type": "code",
   "execution_count": 40,
   "id": "8d9c9f7f-3f11-46c1-b1ba-fe0fdc8674a7",
   "metadata": {},
   "outputs": [
    {
     "name": "stdout",
     "output_type": "stream",
     "text": [
      "0\n",
      "2\n",
      "4\n",
      "6\n",
      "8\n",
      "10\n"
     ]
    }
   ],
   "source": [
    "#Generating Even Numbers using regular function-\n",
    "def even_no(n):\n",
    "    num = []\n",
    "    for i in range(n + 1):\n",
    "        if i % 2 == 0:\n",
    "            num.append(i)\n",
    "    return num\n",
    "\n",
    "result = even_no(10)\n",
    "for i in result:\n",
    "    print(i)"
   ]
  },
  {
   "cell_type": "code",
   "execution_count": null,
   "id": "c8e4bda8-07e9-4433-bc9e-a86ea837df5f",
   "metadata": {},
   "outputs": [],
   "source": [
    "\"\"\"\n",
    "Q8. What is a lambda function in Python and when is it typically used?\n",
    "Answer-\n",
    "    A lambda function in Python is a small, anonymous function defined with the lambda keyword. It can take any number of arguments but can\n",
    "    only have one expression. The expression is evaluated and returned when the lambda function is called.\n",
    "    The syntax of lambda function is :\n",
    "    lamda arguments : expression\n",
    "    Following are the use cases of a lambda function-\n",
    "\"\"\""
   ]
  },
  {
   "cell_type": "code",
   "execution_count": 49,
   "id": "4df6c30d-21b4-4da3-bbe1-cf896864c2ef",
   "metadata": {},
   "outputs": [
    {
     "name": "stdout",
     "output_type": "stream",
     "text": [
      "2.5\n"
     ]
    }
   ],
   "source": [
    "#1) Creating Quick Utility Functions- Lambda functions can be used to create small utility functions on-the-fly.\n",
    "#Use Case: Quick, small mathematical computations.\n",
    "\n",
    "divide = lambda x, y: x / y\n",
    "print(divide(5,2))"
   ]
  },
  {
   "cell_type": "code",
   "execution_count": 61,
   "id": "2836a289-2cd8-4991-b78b-d6e57c70e502",
   "metadata": {},
   "outputs": [
    {
     "name": "stdout",
     "output_type": "stream",
     "text": [
      "[{'Mother': 'Yashodha', 'age': 50}, {'Father': 'Gopala Krishna', 'age': 51}, {'Grand_mother': 'Kanaka', 'age': 65}, {'Grand_father': 'Srinivasa Bhatter', 'age': 75}]\n"
     ]
    }
   ],
   "source": [
    "#2) Using with Data Structures- Lambda functions can be used to manipulate data structures, such as sorting a list of dictionaries.\n",
    "#Use Case: Custom sorting of complex data structures.\n",
    "\n",
    "family = [\n",
    "    {\"Father\" : \"Gopala Krishna\", \"age\" : 51},\n",
    "    {\"Mother\" : \"Yashodha\", \"age\" : 50},\n",
    "    {\"Grand_mother\" : \"Kanaka\", \"age\" : 65},\n",
    "    {\"Grand_father\" : \"Srinivasa Bhatter\", \"age\" : 75}\n",
    "]\n",
    "\n",
    "sort = sorted(family, key=lambda x : x[\"age\"])\n",
    "print(sort)"
   ]
  },
  {
   "cell_type": "code",
   "execution_count": 62,
   "id": "97a4bea5-b519-44d6-97c0-689d7dcf3e52",
   "metadata": {},
   "outputs": [
    {
     "name": "stdout",
     "output_type": "stream",
     "text": [
      "[(4, 1), (1, 2), (2, 3)]\n"
     ]
    }
   ],
   "source": [
    "#3) Using lambda with sorted() Function-\n",
    "#Use Case: Custom sorting criteria.\n",
    "\n",
    "points = [(2, 3), (1, 2), (4, 1)]\n",
    "sorted_points = sorted(points, key=lambda point: point[1])\n",
    "print(sorted_points)"
   ]
  },
  {
   "cell_type": "code",
   "execution_count": 45,
   "id": "bb69fd65-0dec-4d69-94f0-7ba8d28742fa",
   "metadata": {},
   "outputs": [
    {
     "name": "stdout",
     "output_type": "stream",
     "text": [
      "[1, 4, 9, 16, 25]\n"
     ]
    }
   ],
   "source": [
    "#4) Using lambda with map() Function-\n",
    "#Use Case: Transforming or modifying each item in a list.\n",
    "\n",
    "numbers = [1, 2, 3, 4, 5]\n",
    "\n",
    "squared = map(lambda x: x * x, numbers)\n",
    "print(list(squared))"
   ]
  },
  {
   "cell_type": "code",
   "execution_count": 47,
   "id": "bd649cdc-0c32-475c-80c1-908abaf0bd22",
   "metadata": {},
   "outputs": [
    {
     "name": "stdout",
     "output_type": "stream",
     "text": [
      "[0, 2, 4, 6, 8, 10]\n"
     ]
    }
   ],
   "source": [
    "#5) Using lambda with filter() Function-\n",
    "#Use Case: Filtering items in a list based on a condition.\n",
    "\n",
    "list1 = [0, 1, 2, 3, 4, 5, 6, 7, 8, 9, 10]\n",
    "even_numbers = filter(lambda x: x % 2 == 0, list1)\n",
    "print(list(even_numbers))"
   ]
  },
  {
   "cell_type": "code",
   "execution_count": null,
   "id": "7ed70100-6a6c-4df2-a8c3-296aea87e192",
   "metadata": {},
   "outputs": [],
   "source": [
    "\"\"\"\n",
    "Q9. Explain the purpose and usage of the `map()` function in Python.\n",
    "Answer-\n",
    "    The map() function in Python is used to apply a given function to all items in an iterable (like a list, tuple, or string) and return\n",
    "    a map object (which is an iterator) containing the results.\n",
    "    The primary purpose of map() is to simplify the process of applying a function to each item in an iterable, making the code more \n",
    "    concise and readable. It is particularly useful when you need to perform the same operation on all elements of a collection.\n",
    "    \n",
    "    The syntax of map function-\n",
    "    map(function, iterable)\n",
    "    \n",
    "    map() returns a map object, which is an iterator. We can convert it to a list, tuple, or other iterable types if needed.\n",
    "    The map() function is a powerful and versatile tool for applying functions to iterable items in a concise and readable manner.\n",
    "    \n",
    "    Following are some of the usages of map() function with examples-\n",
    "\"\"\""
   ]
  },
  {
   "cell_type": "code",
   "execution_count": 67,
   "id": "8a9db19c-5b78-4123-8263-a0425ced6169",
   "metadata": {},
   "outputs": [
    {
     "name": "stdout",
     "output_type": "stream",
     "text": [
      "['HELLO', 'NAMASTHE', 'VANAKKAM']\n"
     ]
    }
   ],
   "source": [
    "#1) Converting Strings to Uppercase-\n",
    "\n",
    "strings = [\"Hello\", \"namasthe\", \"Vanakkam\"]\n",
    "\n",
    "upper_case_strings = map(str.upper, strings)\n",
    "print(list(upper_case_strings))"
   ]
  },
  {
   "cell_type": "code",
   "execution_count": 69,
   "id": "d1b331f3-0f09-4f5f-a6ed-34aea5422bee",
   "metadata": {},
   "outputs": [
    {
     "name": "stdout",
     "output_type": "stream",
     "text": [
      "[15, 35, 55, 75]\n"
     ]
    }
   ],
   "source": [
    "#2) Adding Elements of Two Lists-\n",
    "\n",
    "list1 = [10, 20, 30, 40]\n",
    "list2 = [5, 15, 25, 35]\n",
    "\n",
    "combined_list = map(lambda a, b : a + b, list1, list2)\n",
    "print(list(combined_list))"
   ]
  },
  {
   "cell_type": "code",
   "execution_count": 81,
   "id": "20d7b7bf-d2f7-4f77-b9b8-79aad0aa8885",
   "metadata": {},
   "outputs": [
    {
     "name": "stdout",
     "output_type": "stream",
     "text": [
      "[6, 11, 8, 27, 17]\n"
     ]
    }
   ],
   "source": [
    "#3) Type Conversion- \n",
    "#Converting a list of strings to integers.\n",
    "\n",
    "values = [\"6\", \"11\", \"8\", \"27\", \"17\"]\n",
    "\n",
    "int_values = map(int, values)\n",
    "print(list(int_values))"
   ]
  },
  {
   "cell_type": "code",
   "execution_count": null,
   "id": "d574ed77-ffa5-4d45-bf59-d3d29931e820",
   "metadata": {},
   "outputs": [],
   "source": [
    "\"\"\"\n",
    "Q10. What is the difference between `map()`, `reduce()`, and `filter()` functions in Python?\n",
    "Answer-\n",
    "    In Python, map(), reduce(), and filter() are higher-order functions that operate on iterables (like lists, tuples, etc.) and allow you\n",
    "    to perform functional-style programming.\n",
    "    1) map() - \n",
    "       Purpose- To apply a function to each item in an iterable and return a map object (which is an iterator) containing the results.\n",
    "       Syntax- map(function, iterable)\n",
    "       Use- map() function is used when you want to transform or modify each element in an iterable.\n",
    "       \n",
    "    2) filter() -\n",
    "       Purpose- To construct an iterator from elements of an iterable for which a function returns true.\n",
    "       Syntax- filter(function, iterable)\n",
    "       Use- filter() function is used when you want to filter out elements from an iterable based on a condition.\n",
    "       \n",
    "    3) reduce() -\n",
    "       Purpose- To apply a function cumulatively to the items of an iterable, reducing the iterable to a single value.\n",
    "       Syntax- reduce(function, iterable[,initializer])\n",
    "       Use- reduce is not a python keyword, we have to import from a library called functools. reduce() fuction is uased when you need to \n",
    "       perform cumulative operations on an iterable, like summing all elements, finding the product, etc. reduce will always take two \n",
    "       arguments.\n",
    "       \n",
    "       Following are the examples of map(), filter(), reduce() functions-\n",
    "\"\"\""
   ]
  },
  {
   "cell_type": "code",
   "execution_count": 82,
   "id": "422355de-fa7a-4170-a854-36d6206c64d2",
   "metadata": {},
   "outputs": [
    {
     "name": "stdout",
     "output_type": "stream",
     "text": [
      "[1, 9, 25, 49, 81]\n"
     ]
    }
   ],
   "source": [
    "#Example of using a map() function-\n",
    "\n",
    "def square(number):\n",
    "    return number * number\n",
    "\n",
    "numbers = [1, 3, 5, 7, 9]\n",
    "\n",
    "square_numbers = map(square, numbers)\n",
    "print(list(square_numbers))\n",
    "\n",
    "#we use map() function when we want to transform or modify each element in an iterable."
   ]
  },
  {
   "cell_type": "code",
   "execution_count": 3,
   "id": "661369a0-d3ad-4c37-9d1d-6bcc53fb1922",
   "metadata": {},
   "outputs": [
    {
     "name": "stdout",
     "output_type": "stream",
     "text": [
      "[25, 50, 125]\n"
     ]
    }
   ],
   "source": [
    "#Example of using a filter() function-\n",
    "\n",
    "def multiple_of_five(numbers):\n",
    "    return numbers % 5 == 0\n",
    "\n",
    "all_numbers = [2, 3, 25, 24, 77, 62, 50, 83, 38, 49, 125]\n",
    "\n",
    "result = filter(multiple_of_five, all_numbers)\n",
    "print(list(result))\n",
    "\n",
    "#we use filter() function when we want to filter out elements from an iterable based on a condition."
   ]
  },
  {
   "cell_type": "code",
   "execution_count": 6,
   "id": "ffed7b49-d4ba-4f2f-b994-8461edb41dee",
   "metadata": {},
   "outputs": [
    {
     "name": "stdout",
     "output_type": "stream",
     "text": [
      "15\n"
     ]
    }
   ],
   "source": [
    "#Example of using a reduce() function-\n",
    "\n",
    "from functools import reduce\n",
    "\n",
    "def add(x, y):\n",
    "    return x+y\n",
    "\n",
    "numbers_list = [0, 1, 2, 3, 4, 5]\n",
    "\n",
    "sum_of_numbers = reduce(add, numbers_list)\n",
    "print(sum_of_numbers)\n",
    "\n",
    "#we use reduce() function when we need to perform cumulative operations on an iterable, like summing all elements, finding the product, etc."
   ]
  },
  {
   "cell_type": "code",
   "execution_count": null,
   "id": "66efb4bf-04c6-41df-a84a-c7704d739fec",
   "metadata": {},
   "outputs": [],
   "source": [
    "\"\"\"PRACTICLE QUESTIONS\"\"\""
   ]
  },
  {
   "cell_type": "code",
   "execution_count": 23,
   "id": "cfe5e946-e55e-4b8c-9c02-88ee66a8e3cf",
   "metadata": {},
   "outputs": [
    {
     "data": {
      "text/plain": [
       "113"
      ]
     },
     "execution_count": 23,
     "metadata": {},
     "output_type": "execute_result"
    }
   ],
   "source": [
    "\"\"\"\n",
    "Q11.  Using pen & Paper write the internal mechanism for sum operation using  reduce function on this given list [47,11,42,13]\n",
    "(Attach paper image for this answer) in doc or colab notebook.\n",
    "\"\"\"\n",
    "from functools import reduce\n",
    "\n",
    "l = [47,11,42,13]\n",
    "reduce(lambda x,y: x + y, l)\n",
    "\n",
    "#(I have attached the internal mechanism for sum operation using reduce function on this given list [47,11,42,13])"
   ]
  },
  {
   "cell_type": "code",
   "execution_count": 1,
   "id": "e3680332-f624-4e69-82ac-27343d056d9b",
   "metadata": {},
   "outputs": [
    {
     "data": {
      "text/plain": [
       "[2, 4, 6, 8, 10]"
      ]
     },
     "execution_count": 1,
     "metadata": {},
     "output_type": "execute_result"
    }
   ],
   "source": [
    "\"\"\"\n",
    "Q1. Write a Python function that takes a list of numbers as input and returns the sum of all even numbers in the list.\n",
    "\"\"\"\n",
    "def even_no(num):\n",
    "    l = []\n",
    "    for i in num:\n",
    "        if i % 2 == 0:\n",
    "            l.append(i)\n",
    "    return l\n",
    "\n",
    "even_no([1, 2, 3, 4, 5, 6, 7, 8, 9, 10])"
   ]
  },
  {
   "cell_type": "code",
   "execution_count": 9,
   "id": "98576121-0d03-442e-9220-f9ac17907213",
   "metadata": {},
   "outputs": [
    {
     "data": {
      "text/plain": [
       "'slliksWP'"
      ]
     },
     "execution_count": 9,
     "metadata": {},
     "output_type": "execute_result"
    }
   ],
   "source": [
    "\"\"\"\n",
    "Q2. Create a Python function that accepts a string and returns the reverse of that string.\n",
    "\"\"\"\n",
    "\n",
    "def reverse(name):\n",
    "    return name[::-1]\n",
    "\n",
    "reverse(\"PWskills\")"
   ]
  },
  {
   "cell_type": "code",
   "execution_count": 2,
   "id": "1a05175e-c762-4af9-b1c2-d2f30098171f",
   "metadata": {},
   "outputs": [
    {
     "data": {
      "text/plain": [
       "[1, 4, 9, 16, 25, 36, 49, 64, 81, 100]"
      ]
     },
     "execution_count": 2,
     "metadata": {},
     "output_type": "execute_result"
    }
   ],
   "source": [
    "\"\"\"\n",
    "Q3.  Implement a Python function that takes a list of integers and returns a new list containing the squares of each number.\n",
    "\"\"\"\n",
    "\n",
    "def square(num):\n",
    "    s = []\n",
    "    for i in num:\n",
    "        s.append(i ** 2)\n",
    "    return s\n",
    "\n",
    "square([1, 2, 3, 4, 5, 6, 7, 8, 9, 10])"
   ]
  },
  {
   "cell_type": "code",
   "execution_count": 33,
   "id": "868c0913-2e81-46c2-bc30-431e8d20524d",
   "metadata": {},
   "outputs": [
    {
     "name": "stdout",
     "output_type": "stream",
     "text": [
      "True\n"
     ]
    }
   ],
   "source": [
    "\"\"\"\n",
    "Q4.  Write a Python function that checks if a given number is prime or not from 1 to 200.\n",
    "\"\"\"\n",
    "\n",
    "def prime_number(number):\n",
    "    if number == 1:\n",
    "        return False\n",
    "    \n",
    "    if number < 1 or number > 200:\n",
    "        return \"Enter any number between 1 to 200\"\n",
    "    \n",
    "    for i in range(2, int(number ** 0.5) + 1):\n",
    "        if number % i == 0:\n",
    "            return False\n",
    "    return True\n",
    "\n",
    "print(prime_number(5))"
   ]
  },
  {
   "cell_type": "code",
   "execution_count": 45,
   "id": "2626ce61-02c6-423c-9180-e367e81fc62d",
   "metadata": {},
   "outputs": [
    {
     "name": "stdout",
     "output_type": "stream",
     "text": [
      "0\n",
      "1\n",
      "1\n",
      "2\n",
      "3\n",
      "5\n",
      "8\n",
      "13\n",
      "21\n",
      "34\n"
     ]
    }
   ],
   "source": [
    "\"\"\"\n",
    "Q5. Create an iterator class in Python that generates the Fibonacci sequence up to a specified number of terms.\n",
    "\"\"\"\n",
    "class Fibonacci_Iterator:\n",
    "    \n",
    "    def __init__(self, number):\n",
    "        self.number = number\n",
    "        self.a, self.b = 0, 1\n",
    "        \n",
    "    def Fibonacci_Sequence(self):\n",
    "        for i in range(self.number):\n",
    "            yield self.a\n",
    "            self.a, self.b = self.b, self.a + self.b\n",
    "        \n",
    "fibonacci_numbers = Fibonacci_Iterator(10)\n",
    "for num in fibonacci_numbers.Fibonacci_Sequence():\n",
    "    print(num)"
   ]
  },
  {
   "cell_type": "code",
   "execution_count": 5,
   "id": "98c72eb3-cd24-4ba9-bb1e-ea3eb3d9c545",
   "metadata": {},
   "outputs": [
    {
     "name": "stdout",
     "output_type": "stream",
     "text": [
      "[1, 2, 4, 8, 16, 32, 64, 128, 256, 512, 1024]\n"
     ]
    }
   ],
   "source": [
    "\"\"\"\n",
    "Q6. Write a generator function in Python that yields the powers of 2 up to a given exponent.\n",
    "\"\"\"\n",
    "def powers_of_2_generator(number):\n",
    "    for i in range(number + 1):\n",
    "        yield 2 ** i\n",
    "\n",
    "exponent = powers_of_2_generator(10)\n",
    "print(list(exponent))"
   ]
  },
  {
   "cell_type": "code",
   "execution_count": 7,
   "id": "f6f33a13-110c-4209-998f-1d694ff5b942",
   "metadata": {},
   "outputs": [
    {
     "name": "stdout",
     "output_type": "stream",
     "text": [
      "\"\"\" Hello, World!\n",
      "This is a test file.\n",
      "It contains multiple lines.\n",
      "Each line will be printed separately.\"\"\"\n"
     ]
    }
   ],
   "source": [
    "\"\"\"\n",
    "Q7. Implement a generator function that reads a file line by line and yields each line as a string.\n",
    "\"\"\"\n",
    "def read_file_line_by_line(file_path):\n",
    "    with open(file_path, 'r') as file:\n",
    "        for line in file:\n",
    "            yield line.strip()\n",
    "\n",
    "# Example usage:\n",
    "file_path = \"sample-file.txt\"\n",
    "for line in read_file_line_by_line(file_path):\n",
    "    print(line)"
   ]
  },
  {
   "cell_type": "code",
   "execution_count": 82,
   "id": "b9912ab0-197d-4b31-a2f3-f0ef07a6d1c9",
   "metadata": {},
   "outputs": [
    {
     "name": "stdout",
     "output_type": "stream",
     "text": [
      "((10, 1), (0, 3), (5, 4), (2, 8))\n"
     ]
    }
   ],
   "source": [
    "\"\"\"\n",
    "Q8. Use a lambda function in Python to sort a list of tuples based on the second element of each tuple.\n",
    "\"\"\"\n",
    "tuple_list = ((5,4), (2,8), (10,1), (0,3)) \n",
    "\n",
    "sorted_tuple_list = sorted(tuple_list, key=lambda x : x[1])\n",
    "print(tuple(sorted_tuple_list))"
   ]
  },
  {
   "cell_type": "code",
   "execution_count": 12,
   "id": "492f71bc-d8c7-4d5d-8dff-9354888b2937",
   "metadata": {},
   "outputs": [
    {
     "name": "stdout",
     "output_type": "stream",
     "text": [
      "[82.4, 89.6, 104.0, 118.4, 127.4, 68.0]\n"
     ]
    }
   ],
   "source": [
    "\"\"\"\n",
    "Q9. Write a Python program that uses `map()` to convert a list of temperatures from Celsius to Fahrenheit.\n",
    "\"\"\"\n",
    "def Fahrenheit_converter(celsius):\n",
    "    return (9/5 * celsius) + 32 \n",
    "\n",
    "temperature_in_celsius = [28, 32, 40, 48, 53, 20]\n",
    "\n",
    "temperature_in_Fahrenheit = list(map(Fahrenheit_converter, temperature_in_celsius))\n",
    "print(temperature_in_Fahrenheit)"
   ]
  },
  {
   "cell_type": "code",
   "execution_count": 11,
   "id": "51ba3544-3f47-4def-868b-58b9d2f9205a",
   "metadata": {},
   "outputs": [
    {
     "name": "stdout",
     "output_type": "stream",
     "text": [
      "mnfst\n"
     ]
    }
   ],
   "source": [
    "\"\"\"\n",
    "Q10. Create a Python program that uses `filter()` to remove all the vowels from a given string.\n",
    "\"\"\"\n",
    "def remove_vowels(string):\n",
    "    vowels = \"aeiouAEIOU\"\n",
    "    return \"\".join(filter(lambda char: char not in vowels, string))\n",
    "\n",
    "my_string = remove_vowels(\"manifest\")\n",
    "print(my_string)"
   ]
  },
  {
   "cell_type": "code",
   "execution_count": 11,
   "id": "a92599ac-d455-43e3-9875-92d85f3c80c5",
   "metadata": {},
   "outputs": [
    {
     "name": "stdout",
     "output_type": "stream",
     "text": [
      "[(34587, '163.80 €'), (98762, '284.00 €'), (77226, '108.85 €'), (88112, '84.97 €')]\n"
     ]
    }
   ],
   "source": [
    "\"\"\"\n",
    "Q11. Imagine an accounting routine used in a book shop. It works on a list with sublists, which look like this:\n",
    "\n",
    "Order Number       Book Title and Author                         Quantity            Price per Item\n",
    "\n",
    "34587             Learning Python, Mark Lutzv                      4                      40.95\n",
    "98762             Programming Python, Mark Lutz                    5                      56.80\n",
    "77226             Head First Python, Paul Barry                    3                      32.95\n",
    "88112             Einführung in Python3, Bernd Klein               3                      24.99\n",
    "\n",
    "\n",
    "Write a Python program, which returns a list with 2-tuples. Each tuple consists of the order number and the \n",
    "product of the price per item and the quantity. The product should be increased by 10,- € if the value of the \n",
    "order is smaller than 100,00 €.\n",
    " Write a Python program using lambda and map.\n",
    "\"\"\"\n",
    "\n",
    "orders = [\n",
    "[34587, \"Learning Python, Mark Lutzv\", 4, 40.95],\n",
    "[98762, \"Programming Python, Mark Lutz\", 5, 56.80],\n",
    "[77226, \"Head First Python, Paul Barry\", 3, 32.95],\n",
    "[88112, \"Einführung in Python3, Bernd Klein\", 3, 24.99]]\n",
    "\n",
    "result = list(map(lambda order: (order[0] , f\"{order[2] * order[3] + (10 if order[2] * order[3] < 100 else 0):.2f} €\"), orders))\n",
    "print(result)"
   ]
  }
 ],
 "metadata": {
  "kernelspec": {
   "display_name": "Python 3 (ipykernel)",
   "language": "python",
   "name": "python3"
  },
  "language_info": {
   "codemirror_mode": {
    "name": "ipython",
    "version": 3
   },
   "file_extension": ".py",
   "mimetype": "text/x-python",
   "name": "python",
   "nbconvert_exporter": "python",
   "pygments_lexer": "ipython3",
   "version": "3.10.8"
  }
 },
 "nbformat": 4,
 "nbformat_minor": 5
}
